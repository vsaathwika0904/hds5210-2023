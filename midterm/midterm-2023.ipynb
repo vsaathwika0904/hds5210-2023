{
  "cells": [
    {
      "cell_type": "markdown",
      "metadata": {
        "id": "view-in-github",
        "colab_type": "text"
      },
      "source": [
        "<a href=\"https://colab.research.google.com/github/vsaathwika0904/hds5210-2023/blob/main/midterm/midterm-2023.ipynb\" target=\"_parent\"><img src=\"https://colab.research.google.com/assets/colab-badge.svg\" alt=\"Open In Colab\"/></a>"
      ]
    },
    {
      "cell_type": "markdown",
      "metadata": {
        "id": "oX1M7OyxjIjf"
      },
      "source": [
        "# HDS5210-2022 Midterm\n",
        "\n",
        "In the midterm, you're going to use all the programming and data management skills you've developed so far to build a risk calculator that pretends to be integrated with a clinical registry.  You'll compute the PRIEST COVID-19 Clinical Severity Score for a series of patients and, based on their risk of an adverse outcome, query a REST web service to find a hospital to transfer them to. The end result of your work will be a list of instructions on where each patient should be discharged given their risk and various characteristics of the patient.\n",
        "\n",
        "Each step in the midterm will build up to form your complete solution.\n",
        "\n",
        "**Make sure you write good docstrings and doctests along the way!!**\n",
        "\n",
        "**The midterm is due at 11:59 PM CST on Monday, October 23rd.**\n",
        "\n",
        "---"
      ]
    },
    {
      "cell_type": "markdown",
      "metadata": {
        "id": "RcrP_EfOjIjg"
      },
      "source": [
        "## Step 1: Calculate PRIEST Clinical Severity Score\n",
        "\n",
        "This scoring algorithm can be found [here on the MDCalc website](https://www.mdcalc.com/priest-covid-19-clinical-severity-score#evidence).  \n",
        "\n",
        "1. You will need to write a function called **priest()** with the following input parameters.  \n",
        " * Sex (Gender assigned at birth)\n",
        " * Age in years\n",
        " * Respiratory rate in breaths per minute\n",
        " * Oxygen saturation as a percent between 0 and 1\n",
        " * Heart rate in beats per minute\n",
        " * Systolic BP in mmHg\n",
        " * Temperature in degrees C\n",
        " * Alertness as a string description\n",
        " * Inspired Oxygen as as string description\n",
        " * Performance Status as a string description\n",
        "2. The function will need to follow the algorithm provided on the MDCalc website to compute a risk percentage that should be returned as a numeric value between 0 and 1.\n",
        "3. Be sure to use docstring documentation and at least three built-in docstring test cases.\n",
        "4. Assume that the input values that are strings could be any combination of upper or lower case. For example: 'male', 'Male', 'MALE', 'MalE' should all be interpretted by your code as male.\n",
        "5. If any of the inputs are invalid (for example a sex value that is not recognizable as male or female) your code should return None.\n",
        "\n",
        "NOTES:\n",
        "1. In the final step there is a table that translates from **PRIEST Score** to **30-day probability of an outcome** but the last two probabilities are shown as ranges (59-88% and >99%).  Our code needs to output a single number, however. For our code, use the following rule:\n",
        " * If PRIEST score is between 17 and 25, the probability you return should be 0.59\n",
        " * If PRIEST score is greater than or equal to 26, the probability you return should be 0.99\n"
      ]
    },
    {
      "cell_type": "code",
      "execution_count": 16,
      "metadata": {
        "id": "qURE38dTjIjg"
      },
      "outputs": [],
      "source": [
        "def priest(sex, age, respirateRt, oxSaturation, hrtrate, bp, temperature, alertness, insOxygen, perfrmsts):\n",
        "\n",
        "    \"\"\"\n",
        "\n",
        "    (String, float, float, float, float, float, float, String, String, String) -> float)\n",
        "\n",
        "    The clinical Severity Score 'PRIEST' COVID-19's\n",
        "    risk percentage is calculated using the priest method.\n",
        "\n",
        "    Sex, alertness, insOxygen, and performance arguments are accepted by the priest function in String; all other arguments are accepted in float.\n",
        "\n",
        "    >>> priest(\"FEMALE\",80,23,0.96,105,115,38.1,\"ALERT\",\"supplemental oxygen\",\"limited activity, can self-care\")\n",
        "    0.34\n",
        "    >>> priest(\"Male\",16,10,0.96,105,115,38.1,\"ALERT\",\"AIR\",\"unrestricted normal activity\")\n",
        "    0.03\n",
        "\n",
        "    >>> priest\"FEMALE\",18,23,0.96,135,115,38.1,\"ALERT\",\"AIR\",\"unrestricted normal activity\")\n",
        "    0.15\n",
        "\n",
        "    \"\"\"\n",
        "\n",
        "\n",
        "    prscr = 0\n",
        "\n",
        "    if sex.lower()==\"male\":\n",
        "        prscr = prscr + 1\n",
        "    elif sex.lower()==\"female\":\n",
        "        prscr = prscr + 0\n",
        "\n",
        "    if age>=16 and age<=49:\n",
        "        prscr = prscr + 0\n",
        "    elif age >= 50 and age<=65:\n",
        "        prscr = prscr + 2\n",
        "    elif age >= 66 and age<=80:\n",
        "        prscr = prscr + 3\n",
        "    elif age > 80:\n",
        "        prscr = prscr + 4\n",
        "\n",
        "\n",
        "    if alertness.lower() == \"confused or not alert\":\n",
        "        prscr = prscr +  3\n",
        "\n",
        "    if perfrmsts.lower() == \"limited self-care\":\n",
        "        prscr = prscr +  3\n",
        "    elif perfrmsts.lower() == \"limited activity, can self-care\":\n",
        "        prscr = prscr +  2\n",
        "    if perfrmsts.lower() == \"limited strenuous activity, can do light activity\":\n",
        "        prscr = prscr +  1\n",
        "    elif perfrmsts.lower() == \"bed/chair bound, no self-care\":\n",
        "        prscr = prscr +  4\n",
        "\n",
        "    if insOxygen.lower() == \"supplemental oxygen\":\n",
        "        prscr = prscr +  2\n",
        "    elif insOxygen.lower() == \"air\":\n",
        "        prscr = prscr +  0\n",
        "\n",
        "    if respirateRt < 9:\n",
        "        prscr = prscr +  3\n",
        "    if respirateRt > 24:\n",
        "        prscr = prscr +  3\n",
        "    elif respirateRt >= 21 and respirateRt <= 24:\n",
        "        prscr = prscr +  2\n",
        "    elif respirateRt >= 9 and respirateRt <= 11:\n",
        "        prscr = prscr +  1\n",
        "\n",
        "    if oxSaturation < 0.92:\n",
        "        prscr = prscr +  3\n",
        "    elif oxSaturation >= 0.94 and oxSaturation <= 0.95:\n",
        "        prscr = prscr +  1\n",
        "    elif oxSaturation >= 0.92 and oxSaturation <= 0.93:\n",
        "        prscr = prscr +  2\n",
        "\n",
        "    if hrtrate > 130:\n",
        "        prscr = prscr +  3\n",
        "    elif hrtrate >= 111 and hrtrate <= 130:\n",
        "        prscr = prscr +  2\n",
        "    elif hrtrate >= 91 and hrtrate <= 110:\n",
        "        prscr = prscr +  1\n",
        "    elif hrtrate < 41:\n",
        "        prscr = prscr +  3\n",
        "    elif hrtrate >= 41 and hrtrate <= 50:\n",
        "        prscr = prscr +  1\n",
        "\n",
        "\n",
        "    if bp > 219:\n",
        "        prscr = prscr +  3\n",
        "    elif bp >= 101 and bp <= 110:\n",
        "        prscr = prscr +  1\n",
        "    elif bp >= 91 and bp <= 100:\n",
        "        prscr = prscr +  2\n",
        "    elif bp < 91:\n",
        "        prscr = prscr +  3\n",
        "\n",
        "    if temperature > 39.0:\n",
        "        prscr = prscr +  2\n",
        "    elif temperature >= 38.1 and temperature <= 39.0:\n",
        "        prscr = prscr +  1\n",
        "    if temperature < 35.1:\n",
        "        prscr = prscr +  3\n",
        "    elif temperature >= 35.1 and temperature <= 36.0:\n",
        "        prscr = prscr +  1\n",
        "\n",
        "\n",
        "    percscale = [0.01, 0.01, 0.02, 0.02, 0.03, 0.09, 0.15, 0.18, 0.22, 0.26, 0.29, 0.34, 0.38, 0.46, 0.47, 0.49, 0.55, 0.59, 0.59, 0.59, 0.59, 0.59, 0.59, 0.59, 0.59, 0.59,0.99]\n",
        "    if prscr < 26:\n",
        "        return percscale[prscr]\n",
        "\n",
        "    return 0.99"
      ]
    },
    {
      "cell_type": "code",
      "execution_count": 17,
      "metadata": {
        "id": "OI2jw9G-jIjg",
        "outputId": "8b75daa0-bc9d-4c07-92ef-13db9668032f",
        "colab": {
          "base_uri": "https://localhost:8080/"
        }
      },
      "outputs": [
        {
          "output_type": "stream",
          "name": "stdout",
          "text": [
            "Finding tests in NoName\n",
            "Trying:\n",
            "    priest(\"FEMALE\",80,23,0.96,105,115,38.1,\"ALERT\",\"supplemental oxygen\",\"limited activity, can self-care\")\n",
            "Expecting:\n",
            "    0.34\n",
            "ok\n",
            "Trying:\n",
            "    priest(\"Male\",16,10,0.96,105,115,38.1,\"ALERT\",\"AIR\",\"unrestricted normal activity\")\n",
            "Expecting:\n",
            "    0.03\n",
            "ok\n",
            "Trying:\n",
            "    priest\"FEMALE\",18,23,0.96,135,115,38.1,\"ALERT\",\"AIR\",\"unrestricted normal activity\")\n",
            "Expecting:\n",
            "    0.15\n",
            "**********************************************************************\n",
            "File \"__main__\", line 17, in NoName\n",
            "Failed example:\n",
            "    priest\"FEMALE\",18,23,0.96,135,115,38.1,\"ALERT\",\"AIR\",\"unrestricted normal activity\")\n",
            "Exception raised:\n",
            "    Traceback (most recent call last):\n",
            "      File \"/usr/lib/python3.10/doctest.py\", line 1350, in __run\n",
            "        exec(compile(example.source, filename, \"single\",\n",
            "      File \"<doctest NoName[2]>\", line 1\n",
            "        priest\"FEMALE\",18,23,0.96,135,115,38.1,\"ALERT\",\"AIR\",\"unrestricted normal activity\")\n",
            "                                                                                           ^\n",
            "    SyntaxError: unmatched ')'\n"
          ]
        }
      ],
      "source": [
        "import doctest\n",
        "doctest.run_docstring_examples(priest, globals(),verbose=True)"
      ]
    },
    {
      "cell_type": "markdown",
      "metadata": {
        "id": "C7k2NOKPjIjh"
      },
      "source": [
        "## Part 2: Find a hospital\n",
        "\n",
        "The next thing we have to do is figure out where to send this particular patient.  The guidelines on where to send a patient are based on their age (pediatric, adult, geriatric), sex, and risk percentage.  Luckily, you don't have to implement these rules. I already have. All you have to do is use a REST web service that I've created for you.\n",
        "\n",
        "You'll want to use Python to make a call to my REST web service similar to the example URL below. The first part of the URL will be the same for everyone and every request that you make. What you will need to modify for each of your requests is the information after the question mark.\n",
        "\n",
        "```\n",
        "https://oumdj6oci2.execute-api.us-east-1.amazonaws.com/prd/?age=40&sex=male&risk_pct=0.1\n",
        "```\n",
        "\n",
        "The example above asks my web service where a 40-year old male with a risk of 10% should go.  What the web service will return back is a JSON string containing the information you need.  That JSON will look like this:\n",
        "\n",
        "```json\n",
        "{\n",
        "  \"age\": \"40\",\n",
        "  \"sex\": \"male\",\n",
        "  \"risk\": \"0.1\",\n",
        "  \"hospital\": \"Southwest Hospital and Medical Center\"\n",
        "}\n",
        "```\n",
        "\n",
        "My function is not smart enough to understand `'MALE'` is the same as `'male'`.  You have to send it exactly `'male'` or `'female'`\n",
        "\n",
        "1. Your job is to write a function called **find_hospital()** that takes age, sex, and risk as parameters.\n",
        "2. Your function should call this REST web service using the `requests` module\n",
        "3. Then your function will need to interpret the JSON it gets and return just the name of the hospital\n",
        "4. If anything fails, return None\n",
        "5. Include a good docstring with at least three test cases.\n"
      ]
    },
    {
      "cell_type": "code",
      "execution_count": 18,
      "metadata": {
        "id": "fpm3OgrTjIjh"
      },
      "outputs": [],
      "source": [
        "import requests, json, csv\n",
        "\n",
        "def find_hospital(age, sex, risk_pct):\n",
        "    \"\"\"\n",
        "\n",
        "    (integer, String, float) -> String\n",
        "\n",
        "    The find_hospital() method locates the appropriate hospital for a patient\n",
        "    based on a number of variables, including riskPercentage, age, and sex.\n",
        "\n",
        "\n",
        "    Age, sex, and riskPerc are all integers, while sex is a string.\n",
        "    The find_hospital() method accepts these three arguments.\n",
        "    returns the output hospital's name as a String.\n",
        "\n",
        "\n",
        "    >>> find_hospital(80, \"FEMALE\", 0.34)\n",
        "    'Wesley Woods Geriatric Hospital'\n",
        "\n",
        "    >>> find_hospital(16, \"Male\", 0.03)\n",
        "    'Select Specialty Hospital - Northeast Atlanta'\n",
        "\n",
        "    >>> find_hospital(18, \"FEMALE\", 0.15)\n",
        "    'Select Specialty Hospital - Northeast Atlanta'\n",
        "\n",
        "    \"\"\"\n",
        "\n",
        "\n",
        "    url = \"https://oumdj6oci2.execute-api.us-east-1.amazonaws.com/prd\"\n",
        "\n",
        "    params={\"age\":age,\"sex\":sex.lower(),\"risk_pct\":risk_pct}\n",
        "\n",
        "    specifiedHosp = requests.get(url, params=params)\n",
        "\n",
        "    return (specifiedHosp.json())[\"hospital\"]"
      ]
    },
    {
      "cell_type": "code",
      "execution_count": 19,
      "metadata": {
        "id": "B2U7g_cTjIjh",
        "outputId": "4d844d8e-78a4-4434-b18c-72d7e0f05dfe",
        "colab": {
          "base_uri": "https://localhost:8080/"
        }
      },
      "outputs": [
        {
          "output_type": "stream",
          "name": "stdout",
          "text": [
            "Finding tests in NoName\n",
            "Trying:\n",
            "    find_hospital(80, \"FEMALE\", 0.34)\n",
            "Expecting:\n",
            "    'Wesley Woods Geriatric Hospital'\n",
            "ok\n",
            "Trying:\n",
            "    find_hospital(16, \"Male\", 0.03)\n",
            "Expecting:\n",
            "    'Select Specialty Hospital - Northeast Atlanta'\n",
            "**********************************************************************\n",
            "File \"__main__\", line 20, in NoName\n",
            "Failed example:\n",
            "    find_hospital(16, \"Male\", 0.03)\n",
            "Expected:\n",
            "    'Select Specialty Hospital - Northeast Atlanta'\n",
            "Got:\n",
            "    'Childrens Healthcare of Atlanta at Scottish Rite'\n",
            "Trying:\n",
            "    find_hospital(18, \"FEMALE\", 0.15)\n",
            "Expecting:\n",
            "    'Select Specialty Hospital - Northeast Atlanta'\n",
            "ok\n"
          ]
        }
      ],
      "source": [
        "import doctest\n",
        "doctest.run_docstring_examples(find_hospital, globals(),verbose=True)"
      ]
    },
    {
      "cell_type": "markdown",
      "metadata": {
        "id": "yIP94J3sjIjh"
      },
      "source": [
        "## Part 3: Get the address for that hospital from a JSON file\n",
        "\n",
        "Great! Now we have code to tell us which hospital to send someone to... but we don't know where that hospital is. The next function we need to create is one that looks up the address of that hospital.  All of these hospitals are in Atlanta, Georgia.  We're going to use the list from this webpage to lookup the address for that hospital, based on its name.  https://www.officialusa.com/stateguides/health/hospitals/georgia.html\n",
        "\n",
        "Because we skipped the section about Beautiful Soup and working with HTML, I've converted this information into a JSON document for you.  It's available for you here.  Your code should retrieve this file using the `requests` module.\n",
        "\n",
        "`https://drive.google.com/uc?export=download&id=1fIFD-NkcdiMu941N4GjyMDWxiKsFJBw-`\n",
        "\n",
        "1. You need to create a function called **get_address()** that takes hospital name as a parameter and searches the data from this JSON file for the hospital you want to find.\n",
        "2. Your code will have to load the JSON and return the correct hospital based on name.\n",
        "3. If the hospital name isn't found, the function should return None.\n",
        "4. Be sure to use good docstring documentation and includes at least 3 test cases."
      ]
    },
    {
      "cell_type": "code",
      "execution_count": 20,
      "metadata": {
        "id": "hJv_MdccjIjh"
      },
      "outputs": [],
      "source": [
        "def get_address(Hospitalname):\n",
        "    \"\"\"\n",
        "    (string)->string\n",
        "\n",
        "    the get_address command using the provided url, locate the hospital's address based on the hospital name.\n",
        "\n",
        "    Get_address function finds address by using API, where it has hospital name json data in it.\n",
        "    It expects hospital name as String and returns address as String.\n",
        "\n",
        "    >>> get_address(\"Wesley Woods Geriatric Hospital\")\n",
        "    '1821 CLIFTON ROAD, NE'\n",
        "\n",
        "    >>> get_address(\"Childrens Healthcare of Atlanta at Scottish Rite\")\n",
        "    '1001 JOHNSON FERRY RD'\n",
        "\n",
        "    >>> get_address(\"Select Specialty Hospital - Northeast Atlanta\")\n",
        "    '1821 CLIFTON ROAD NE'\n",
        "\n",
        "    \"\"\"\n",
        "\n",
        "    respons = requests.get(\"https://hds5210-data.s3.amazonaws.com/ga_hospitals.json\")\n",
        "\n",
        "    response = respons.json()\n",
        "\n",
        "\n",
        "    if Hospitalname.upper() in response:\n",
        "        return response[Hospitalname.upper()]['ADDRESS']\n",
        "    else:\n",
        "        return \"Not able to find\"\n",
        ""
      ]
    },
    {
      "cell_type": "markdown",
      "metadata": {
        "id": "9-l9udd6jIjh"
      },
      "source": [
        "## Part 4: Run the risk calculator on a population\n",
        "\n",
        "At the link below, there is a file called `people.psv`.  It is a pipe-delimited (`|`) file with columns that match the inputs for the PRIEST calculation above.  Your code should use the `requests` module to retrieve the file from this URL.\n",
        "\n",
        "`https://drive.google.com/uc?export=download&id=1fLxJN9YGUqmqExrilxSS8furwUER5HHh`\n",
        "\n",
        "\n",
        "In addition, the file has a patient identifier in the first column.\n",
        "\n",
        "1. Write a function called **process_people()** that takes the file location above as its only parameter. Your Python program should use your code above to process all of these rows, determine the hospital and address, and return a list whose items are a dictionary like this: `{ patient_number: [sex, age, breath, o2sat, heart, systolic, temp, alertness, inspired, status, hospital, address]}`.  Look at the file in Part 5 for what the output looks like.\n",
        "2. Be sure to use good docstrings, but you don't need any tests in your doc strings.  I've provided those for you withe file in Part 5.\n",
        "\n",
        "\n",
        "**NOTE** that when running your code for all the 100 records in the `people.psv` file, it may take a few minutes to complete.  You're making multiple calls to the internet for each record, so that can take a little while.\n"
      ]
    },
    {
      "cell_type": "code",
      "execution_count": 21,
      "metadata": {
        "id": "4JZYQ5u9jIjh"
      },
      "outputs": [],
      "source": [
        "def process_people(url):\n",
        "    \"\"\"\n",
        "    (String) -> Dictionary\n",
        "\n",
        "    All patient information, including risk, hospital,\n",
        "    and hospital address, will be generated by this process_people method\n",
        "    in a dictionary (in JSON format).\n",
        "\n",
        "    This process_people method accepts url arguments and\n",
        "    outputs a Dictionary object containing all patient data.\n",
        "\n",
        "    \"\"\"\n",
        "\n",
        "    urlContent = requests.get(url)\n",
        "\n",
        "    rowsWithDel = urlContent.text.split(\"\\n\")\n",
        "\n",
        "    xs = csv.reader(rowsWithDel, delimiter='|')\n",
        "\n",
        "    next(xs)\n",
        "\n",
        "    itr = iter(xs)\n",
        "\n",
        "    dictionaryPatients = {}\n",
        "    try:\n",
        "        while 1:\n",
        "            value = next(itr)\n",
        "\n",
        "            if all(field == '' for field in value):\n",
        "                break\n",
        "\n",
        "            patient, sex, age, rspRt, oxSt, htRate, sBP, temp, alertness, insOx, status = value[:11]\n",
        "\n",
        "\n",
        "            risk = priest(sex, float(age), float(rspRt), float(oxSt), float(htRate), float(sBP), float(temp), alertness, insOx, status)\n",
        "\n",
        "            Hptl = find_hospital(int(age), sex, risk)\n",
        "\n",
        "\n",
        "            dictionaryPatients[patient] = [sex, float(age), float(rspRt), float(oxSt), float(htRate), float(sBP), float(temp), alertness, insOx, status, risk, Hptl, get_address(Hptl)]\n",
        "\n",
        "    except StopIteration:\n",
        "        return dictionaryPatients\n",
        "\n",
        "\n",
        "    return dictionaryPatients"
      ]
    },
    {
      "cell_type": "markdown",
      "metadata": {
        "id": "iVJ0aJ1djIjh"
      },
      "source": [
        "## Part 5: Checking your final results\n",
        "\n",
        "The final step is to check your results.  You should be able to compare your results to the output in `people_results.json` at the link below.  Write some code to check your results.  This does not need to be a function.\n",
        "\n",
        "`https://drive.google.com/uc?export=download&id=1gx1SSC20mO5XL6uYD0mdcM_cL91fcIW5`\n"
      ]
    },
    {
      "cell_type": "code",
      "execution_count": 22,
      "metadata": {
        "id": "Ie7bBVqGjIjh",
        "outputId": "dc4542cf-4fb2-4cc9-b2f0-8845f9c53aa7",
        "colab": {
          "base_uri": "https://localhost:8080/"
        }
      },
      "outputs": [
        {
          "output_type": "stream",
          "name": "stdout",
          "text": [
            "Results Are Same\n"
          ]
        }
      ],
      "source": [
        "\"\"\"\n",
        "\n",
        "It determines whether the information in the url\n",
        "and the result produced by process_people are equivalent.\n",
        "\n",
        "\"\"\"\n",
        "methodCalc = process_people(\"https://hds5210-data.s3.amazonaws.com/people.psv\")\n",
        "\n",
        "methodCalcStr = json.loads(json.dumps(methodCalc))\n",
        "\n",
        "\n",
        "original = requests.get(\"https://hds5210-data.s3.amazonaws.com/people_results.json\")\n",
        "\n",
        "originalstr = json.loads(json.dumps(original.json()))\n",
        "\n",
        "\n",
        "\n",
        "if methodCalcStr == originalstr:\n",
        "    print(\"Results Are Same\")\n",
        "else:\n",
        "    print(\"Results are Not Same\")"
      ]
    },
    {
      "cell_type": "markdown",
      "metadata": {
        "id": "UvUhaVjdjIji"
      },
      "source": [
        "---\n",
        "\n",
        "## Check your work above\n",
        "\n",
        "If you didn't get them all correct, take a few minutes to think through those that aren't correct.\n",
        "\n",
        "\n",
        "## Submitting Your Work\n",
        "\n",
        "Submit your work as usual into a folder named `midterm`"
      ]
    },
    {
      "cell_type": "markdown",
      "metadata": {
        "id": "HDOL7AGZjIji"
      },
      "source": [
        "---"
      ]
    }
  ],
  "metadata": {
    "kernelspec": {
      "display_name": "Python 3",
      "language": "python",
      "name": "python3"
    },
    "language_info": {
      "codemirror_mode": {
        "name": "ipython",
        "version": 3
      },
      "file_extension": ".py",
      "mimetype": "text/x-python",
      "name": "python",
      "nbconvert_exporter": "python",
      "pygments_lexer": "ipython3",
      "version": "3.9.16"
    },
    "colab": {
      "provenance": [],
      "include_colab_link": true
    }
  },
  "nbformat": 4,
  "nbformat_minor": 0
}