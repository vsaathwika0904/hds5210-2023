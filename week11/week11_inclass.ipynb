{
  "cells": [
    {
      "cell_type": "markdown",
      "metadata": {
        "id": "view-in-github",
        "colab_type": "text"
      },
      "source": [
        "<a href=\"https://colab.research.google.com/github/vsaathwika0904/hds5210-2023/blob/main/week11/week11_inclass.ipynb\" target=\"_parent\"><img src=\"https://colab.research.google.com/assets/colab-badge.svg\" alt=\"Open In Colab\"/></a>"
      ]
    },
    {
      "cell_type": "markdown",
      "metadata": {
        "id": "IjjBk73WQDoS"
      },
      "source": [
        "# Week 11 In-Class Challenge\n",
        "\n",
        "This week, we are doing an in-class exercise.  This will be worth 5 extra credit points for each team that creates a successful solution that follows the programming guidelines we've established this semester.  All the requirements for this programming challenge are described below.  If you complete them all successfully, you will receive 5 points.  If you do not, you will receive 0 points.\n",
        "\n",
        "Work as a group.  You will all receive the same number of points.\n",
        "\n",
        "## Requirements\n",
        "1. Your code must be a function named `week11()` that takes no parameters\n",
        "2. Your `week11()` function must read this CSV from the internet and use it as input: https://hds5210-data.s3.amazonaws.com/Section111ValidICD10-Jan2024.csv\n",
        "  * This file has three columns: CODE, SHORT DESCRIPTION, LONG DESCRIPTION, and NF EXCL\n",
        "  * The NF EXCL indicates that this code is excluded from a \"no fault\" list related to workers compensation insurance claims\n",
        "3. Your `week11()` function must use Pandas functions to generate new columns and filter the dataframe using the following rules\n",
        "   * Create a new column called \"CODE TYPE\" that contains only the first character of the CODE column. For example if CODE=\"A001\" then CODE TYPE=\"A\"\n",
        "   * Create a new column called \"CODE NUM\" that contains only the numeric part of the CODE column and make it numeric. For example if CODE=\"A001\" then CODE NUM=1\n",
        "   * Some CODE NUM portions cannot be converted directly because the have an \"X\" in them.  Convert that \"X\" to a \".\" and then conver the CODE NUM to a numeric value.  For example if CODE=\"E1037X1\" then CODE NUM=1037.1\n",
        "   * Filter your results to only include those rows where NF EXCL=\"Y\"\n",
        "   * Sort your results in ascending order by CODE NUM and then by CODE TYPE\n",
        "4. Use the \"checker\" in the last cell to confirm that your results are correct.  If the checker gives any errors, you will receive no credit.\n",
        "\n",
        "\n",
        "## Submitting\n",
        "In Canvas, you will find an assignment called Week 11 In Class Group Extra Credit.  It may be at this link: https://canvas.slu.edu/courses/42884/assignments/362720\n",
        "\n",
        "Submit the URL pointing to the file in GitHub you want me to review for your group submission.  Your URL should look something like this: https://github.com/paulboal/hds5210-2023/blob/main/week11/week11_inclass.ipynb\n",
        "\n",
        "\n",
        "## Scoring Rubric\n",
        "If your code passes my checker included at the bottom of this page, each person on your team will earn 5 points.  If you code does not pass my checker, you will earn 0 points. This is \"all or nothing\" extra credit.\n",
        "\n",
        "---"
      ]
    },
    {
      "cell_type": "code",
      "execution_count": 1,
      "metadata": {
        "id": "dAAAP4faQDoX"
      },
      "outputs": [],
      "source": [
        "# I've provide you code here to start with.\n",
        "\n",
        "import pandas as pd\n",
        "\n",
        "def week11():\n",
        "    \"\"\"() -> pd.DataFrame\n",
        "\n",
        "    This function will process the file named in step 2 of the instructions above\n",
        "    using the rules in step 3 above.  It will return a dataframe that contains\n",
        "    the filtered, sorted, and enhanced results.\n",
        "\n",
        "    For my tests, I will validate the shape to start with.\n",
        "    If I have more time, I can figure out how to write tests for the other requirements.\n",
        "\n",
        "    >>> week11().shape\n",
        "    (1090, 6)\n",
        "    \"\"\"\n",
        "   # hospitals = pd.read_csv('https://hds5210-data.s3.amazonaws.com/Section111ValidICD10-Jan2024.csv')\n",
        "\n",
        "    # Do your work here\n",
        "    # and return a final data frame\n",
        "\n",
        "# I've provide you code here to start with.\n",
        "\n",
        "import pandas as pd\n",
        "\n",
        "def week11():\n",
        "    \"\"\"() -> pd.DataFrame\n",
        "\n",
        "    This function will process the file named in step 2 of the instructions above\n",
        "    using the rules in step 3 above.  It will return a dataframe that contains\n",
        "    the filtered, sorted, and enhanced results.\n",
        "\n",
        "    For my tests, I will validate the shape to start with.\n",
        "    If I have more time, I can figure out how to write tests for the other requirements.\n",
        "\n",
        "    >>> week11().shape\n",
        "    (1098, 6)\n",
        "    \"\"\"\n",
        "    hospitals = pd.read_csv('https://hds5210-data.s3.amazonaws.com/Section111ValidICD10-Jan2024.csv')\n",
        "    code_type = []\n",
        "    code_num = []\n",
        "    for i in hospitals.index:\n",
        "      code_type.append(hospitals['CODE'][i][0])\n",
        "\n",
        "      code_number = hospitals['CODE'][i][1:]\n",
        "      # Check for X\n",
        "      for j in range(len(code_number)):\n",
        "        if code_number[j] == 'X':\n",
        "          code_number[j] == '.'\n",
        "          break\n",
        "      code_num.append(float(code_number))\n",
        "\n",
        "    hospitals['CODE TYPE'] = code_type\n",
        "    hospitals['CODE NUM'] = code_num\n",
        "\n",
        "    hospitals = hospitals.loc[hospitals['NF EXCL'] == 'Y']\n",
        "    final_data = hospitals.sort_values(by=['CODE TYPE', 'CODE NUM'], ascending=[True, True])\n",
        "\n",
        "    return final_data\n",
        "\n",
        "    # This is a dummy piece of code that just passes my one doctest.\n",
        "    # Obviously, it won't pass the checker at the bottom.\n",
        "    # You'll want to delete this before you try checking your answer.\n",
        "  #  final_data = pd.DataFrame([[x for x in range(6)] for x in range(1090)])\n",
        "\n",
        "  #  return final_data\n"
      ]
    },
    {
      "cell_type": "markdown",
      "metadata": {
        "id": "k5saU8mlQDoZ"
      },
      "source": [
        "---\n",
        "\n",
        "## You can run your doctests this way"
      ]
    },
    {
      "cell_type": "code",
      "execution_count": 2,
      "metadata": {
        "colab": {
          "base_uri": "https://localhost:8080/"
        },
        "id": "FO7wQVScQDoZ",
        "outputId": "a01b02f9-7e64-45be-d717-469cf281c7a5"
      },
      "outputs": [
        {
          "output_type": "stream",
          "name": "stdout",
          "text": [
            "Finding tests in NoName\n",
            "Trying:\n",
            "    week11().shape\n",
            "Expecting:\n",
            "    (1098, 6)\n"
          ]
        },
        {
          "output_type": "stream",
          "name": "stderr",
          "text": [
            "\n",
            "PYDEV DEBUGGER WARNING:\n",
            "sys.settrace() should not be used when the debugger is being used.\n",
            "This may cause the debugger to stop working correctly.\n",
            "If this is needed, please check: \n",
            "http://pydev.blogspot.com/2007/06/why-cant-pydev-debugger-work-with.html\n",
            "to see how to restore the debug tracing back correctly.\n",
            "Call Location:\n",
            "  File \"/usr/lib/python3.10/doctest.py\", line 1501, in run\n",
            "    sys.settrace(save_trace)\n",
            "\n"
          ]
        },
        {
          "output_type": "stream",
          "name": "stdout",
          "text": [
            "ok\n"
          ]
        }
      ],
      "source": [
        "from doctest import run_docstring_examples\n",
        "run_docstring_examples(week11, globs=globals(), verbose=True)"
      ]
    },
    {
      "cell_type": "markdown",
      "metadata": {
        "id": "NUWwWiVIQDob"
      },
      "source": [
        "---\n",
        "\n",
        "## Use this code to check your output!\n",
        "\n",
        "If you get something other than `\"You did it!!\"` then you still have work to do on your solution.\n",
        "\n",
        "The feedback provided should give you some hints as to what you haven't done correctly in filtering and organizing the data.\n",
        "\n",
        "You can run this as many times as you want.  I'm not recording who is trying what and if you're getting the right answers or not."
      ]
    },
    {
      "cell_type": "code",
      "execution_count": 3,
      "metadata": {
        "colab": {
          "base_uri": "https://localhost:8080/"
        },
        "id": "rhuhJfxgQDob",
        "outputId": "6419680c-434f-4cef-b437-e64db04d11f9"
      },
      "outputs": [
        {
          "output_type": "stream",
          "name": "stdout",
          "text": [
            "200\n",
            "\"You did it!!\"\n"
          ]
        }
      ],
      "source": [
        "import requests\n",
        "\n",
        "r = requests.post('https://rln3ys6dciybh6cydvapszesna0oxcyn.lambda-url.us-east-1.on.aws/',\n",
        "                  headers={\"content-type\": \"application/json\"},\n",
        "                  data=week11().to_json(orient='records'))\n",
        "\n",
        "print(r.status_code)\n",
        "print(r.text)"
      ]
    }
  ],
  "metadata": {
    "kernelspec": {
      "display_name": ".venv",
      "language": "python",
      "name": "python3"
    },
    "language_info": {
      "codemirror_mode": {
        "name": "ipython",
        "version": 3
      },
      "file_extension": ".py",
      "mimetype": "text/x-python",
      "name": "python",
      "nbconvert_exporter": "python",
      "pygments_lexer": "ipython3",
      "version": "3.9.16"
    },
    "colab": {
      "provenance": [],
      "include_colab_link": true
    }
  },
  "nbformat": 4,
  "nbformat_minor": 0
}