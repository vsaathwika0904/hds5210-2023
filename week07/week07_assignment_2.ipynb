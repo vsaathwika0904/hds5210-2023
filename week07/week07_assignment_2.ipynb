{
  "cells": [
    {
      "cell_type": "markdown",
      "metadata": {
        "id": "view-in-github",
        "colab_type": "text"
      },
      "source": [
        "<a href=\"https://colab.research.google.com/github/vsaathwika0904/hds5210-2023/blob/main/week07/week07_assignment_2.ipynb\" target=\"_parent\"><img src=\"https://colab.research.google.com/assets/colab-badge.svg\" alt=\"Open In Colab\"/></a>"
      ]
    },
    {
      "cell_type": "markdown",
      "metadata": {
        "id": "Xt34-aII9YYR"
      },
      "source": [
        "# Week 7 Assignment\n",
        "\n",
        "We've been working with different types of data structures in Python (dictionary, list, etc), how those are represented in JSON documents, and how to write code to access specific data elements. In this week's assignment, you will need to create your own JSON document to store information about yourself and the grades you've received from week 1 to week 4 and the week 6 quiz.  That is, everything you should have received a grade for.  Then you'll need to show me you know how to navigate the JSON in that file.\n",
        "\n",
        "Different from what we've done in the past, you do not have to write any functions or include any docstrings.  Just create some JSON and write some code.\n",
        "\n",
        "---"
      ]
    },
    {
      "cell_type": "markdown",
      "metadata": {
        "id": "ZDK1drTi9YYU"
      },
      "source": [
        "## 7.1 Create a JSON string\n",
        "\n",
        "Create a JSON string that contains your name, email, year you were born, all of the grades you've received back so far, and a comment about what you thought was most challenging on each of those assignments.  This can be any structure you choose, but make sure it uses a dictionary and a list, and has at least two levels of hierarchy.  That is, it can't just be one big long list."
      ]
    },
    {
      "cell_type": "markdown",
      "metadata": {
        "id": "f9Ybwixy9YYV"
      },
      "source": [
        "First, explain how your data structure is going to look..."
      ]
    },
    {
      "cell_type": "markdown",
      "metadata": {
        "id": "IaOo0_aG9YYV"
      },
      "source": [
        "* Put your explanation here in text..."
      ]
    },
    {
      "cell_type": "markdown",
      "source": [
        "To read the JSON data in the variable hds5210, use the json.loads() method. By using this method, we can access the contents of the JSON string by converting it into a Python dictionary.\n",
        "\n",
        "Variable Assignments:\n",
        "me: The value connected to the \"name\" key in the \"me\" object is kept in this variable.\n",
        "email: Within the \"me\" object, it saves the value connected to the \"E-Mail\" key.\n",
        "year: The value connected to the \"Birth Year\" key in the \"me\" object is kept in this variable.\n",
        "ratings_list: The \"Grades\" list is stored as a string representation, with commas connecting each grade. The value connected to the \"com\" key in the \"comment\" object is kept in this variable.\n",
        "\n",
        "Print Statements: Lastly, the code formats the values it collected from the JSON object and prints out an English paragraph."
      ],
      "metadata": {
        "id": "jWgqgJQ-Id4_"
      }
    },
    {
      "cell_type": "markdown",
      "metadata": {
        "id": "EWxFTtWn9YYV"
      },
      "source": [
        "Then put the actual JSON you've created inside the multiline string below..."
      ]
    },
    {
      "cell_type": "code",
      "execution_count": 10,
      "metadata": {
        "id": "ZKkIX-rj9YYV"
      },
      "outputs": [],
      "source": [
        "hds5210 = \"\"\"\n",
        "{\n",
        "    \"me\": {\n",
        "        \"name\": \"Siva Saathwika Vamkeepuram\",\n",
        "        \"E-Mail\":\"svamkeepuram@slu.edu\",\n",
        "        \"Birth Year\":\"2001\",\n",
        "        \"Grades\":[\"10\",\"10\",\"10\",\"9\"]\n",
        "\n",
        "    },\n",
        "    \"comment\":{\n",
        "          \"com\":\"I had difficulty in solving the errors while writing the code\"\n",
        "    }\n",
        "\n",
        "}\n",
        "\n",
        "\"\"\""
      ]
    },
    {
      "cell_type": "markdown",
      "metadata": {
        "id": "DzNswS_w9YYW"
      },
      "source": [
        "## 7.2 Do something with your JSON\n",
        "\n",
        "Now use Python code to do something with the Json above.  Turn it into English text, but make sure that you use at least one loop to access some dict or list content of your JSON.  Below, I've provided some basic code to read in the string above as JSON and return a Python object.  Your job is to work with that data structure and print out the important information like your name, email, and how you did on each assignment."
      ]
    },
    {
      "cell_type": "code",
      "execution_count": 11,
      "metadata": {
        "id": "lqV7NXSm9YYX",
        "outputId": "76f0a0d9-6ea3-4196-b31a-f4f9c31b8b13",
        "colab": {
          "base_uri": "https://localhost:8080/"
        }
      },
      "outputs": [
        {
          "output_type": "stream",
          "name": "stdout",
          "text": [
            "Hi, my name is Siva Saathwika Vamkeepuram\n",
            "My e-mail is svamkeepuram@slu.edu\n",
            "I was born in 2001\n",
            "My Grades are 10, 10, 10, 9\n",
            "I had difficulty in solving the errors while writing the code\n"
          ]
        }
      ],
      "source": [
        "import json\n",
        "\n",
        "\n",
        "# Put your code to output a paragraph of English text here\n",
        "info = json.loads(hds5210)\n",
        "import json\n",
        "\n",
        "me = info[\"me\"][\"name\"]\n",
        "email = info[\"me\"][\"E-Mail\"]\n",
        "year=info[\"me\"][\"Birth Year\"]\n",
        "grades_list = \", \".join(info[\"me\"][\"Grades\"])\n",
        "comm=info[\"comment\"][\"com\"]\n",
        "\n",
        "print(f\"Hi, my name is {me}\")\n",
        "print(f\"My e-mail is {email}\")\n",
        "print(f\"I was born in {year}\")\n",
        "print(f\"My Grades are {grades_list}\")\n",
        "print(f\"{comm}\")"
      ]
    },
    {
      "cell_type": "markdown",
      "metadata": {
        "id": "qLf-TL2o9YYX"
      },
      "source": [
        "## 7.3 Reflect\n",
        "\n",
        "Write a paragraph on any reflections you have. Was this hard? Easy?  What parts were most challenging or easiest? What did you like or dislike about the assignment?  Share whatever important thoughts you have abou this assignment."
      ]
    },
    {
      "cell_type": "markdown",
      "source": [
        "The concept of this weeks assignment was easy compared to the previous weeks. But even though it was easy it took me a little time to understand how it works."
      ],
      "metadata": {
        "id": "7Xe3YNBtA913"
      }
    },
    {
      "cell_type": "markdown",
      "metadata": {
        "id": "W-gyByR69YYX"
      },
      "source": [
        "* Put your response here"
      ]
    },
    {
      "cell_type": "markdown",
      "metadata": {
        "id": "qn0TbVfp9YYX"
      },
      "source": [
        "---\n",
        "\n",
        "# Example\n",
        "\n",
        "Below is an example of something similar, but this uses information my and my friend's kids instead of grades."
      ]
    },
    {
      "cell_type": "code",
      "execution_count": 12,
      "metadata": {
        "id": "ryXmY_lh9YYX",
        "outputId": "71a172dd-68fc-48de-f8e6-dc76d6144ebf",
        "colab": {
          "base_uri": "https://localhost:8080/"
        }
      },
      "outputs": [
        {
          "output_type": "stream",
          "name": "stdout",
          "text": [
            "Hi, my name is Paul. I've got 3 kids. Their names are Ellie, Ada, Teddy.\n",
            "My friend, Anny has 1 kids. That's fewer than me. Their names are 1\n"
          ]
        }
      ],
      "source": [
        "hds5210 = \"\"\"\n",
        "{\n",
        "    \"me\": {\n",
        "        \"name\": \"Paul\",\n",
        "        \"kids\": [\"Ellie\", \"Ada\", \"Teddy\"]\n",
        "    },\n",
        "    \"friend\": {\n",
        "        \"name\": \"Anny\",\n",
        "        \"kids\": [\"Abby\"]\n",
        "    }\n",
        "}\n",
        "\"\"\"\n",
        "\n",
        "import json\n",
        "\n",
        "info = json.loads(hds5210)\n",
        "\n",
        "me = info[\"me\"][\"name\"]\n",
        "my_kids_count = len(info[\"me\"][\"kids\"])\n",
        "kids_list = \", \".join(info[\"me\"][\"kids\"])\n",
        "friend = info[\"friend\"][\"name\"]\n",
        "friends_kid_count = len(info[\"friend\"][\"kids\"])\n",
        "friend_kids = \", \".join(info[\"friend\"][\"kids\"])\n",
        "compare = \"more\" if friends_kid_count > my_kids_count else \"fewer\"\n",
        "\n",
        "print(f\"Hi, my name is {me}. I've got {my_kids_count} kids. Their names are {kids_list}.\")\n",
        "print(f\"My friend, {friend} has {friends_kid_count} kids. That's {compare} than me. Their names are {friends_kid_count}\")"
      ]
    }
  ],
  "metadata": {
    "kernelspec": {
      "display_name": "Python 3",
      "language": "python",
      "name": "python3"
    },
    "language_info": {
      "codemirror_mode": {
        "name": "ipython",
        "version": 3
      },
      "file_extension": ".py",
      "mimetype": "text/x-python",
      "name": "python",
      "nbconvert_exporter": "python",
      "pygments_lexer": "ipython3",
      "version": "3.9.16"
    },
    "colab": {
      "provenance": [],
      "include_colab_link": true
    }
  },
  "nbformat": 4,
  "nbformat_minor": 0
}