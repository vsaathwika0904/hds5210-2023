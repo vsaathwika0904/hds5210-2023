{
  "nbformat": 4,
  "nbformat_minor": 0,
  "metadata": {
    "colab": {
      "provenance": [],
      "include_colab_link": true
    },
    "kernelspec": {
      "name": "python3",
      "display_name": "Python 3"
    },
    "language_info": {
      "name": "python"
    }
  },
  "cells": [
    {
      "cell_type": "markdown",
      "metadata": {
        "id": "view-in-github",
        "colab_type": "text"
      },
      "source": [
        "<a href=\"https://colab.research.google.com/github/vsaathwika0904/hds5210-2023/blob/main/week01/assignment1.ipynb\" target=\"_parent\"><img src=\"https://colab.research.google.com/assets/colab-badge.svg\" alt=\"Open In Colab\"/></a>"
      ]
    },
    {
      "cell_type": "markdown",
      "source": [
        "# Week 1 Assignment\n",
        "\n",
        "The goal of this first assignment is to demonstrate that you know how to interact with Google Colab and GitHub using the process we'll be using to submit assignments and receive feedback in the course.  Complete the steps below:\n",
        "1. Open this notebook in Google Colab from my GitHub repository named `hds5210-2023`\n",
        "2. Edit the variables in the first cell below with your information\n",
        "3. Choose `Runtime->Run all` or `Runtime->Restart and run all`\n",
        "4. Save this notebook to the following path in your own GitHub repository: `week01/assignment1.ipynb`\n",
        "5. Verify that you can see your file in GitHub as noted in print statement\n"
      ],
      "metadata": {
        "id": "qMQiuSy_t3HW"
      }
    },
    {
      "cell_type": "code",
      "source": [
        "my_email = 'svamkeepuram@slu.edu'\n",
        "my_github = 'vsaathwika0904'\n",
        "my_repository = 'hds5210-2023'"
      ],
      "metadata": {
        "id": "6kehfhGeuocK"
      },
      "execution_count": 1,
      "outputs": []
    },
    {
      "cell_type": "code",
      "source": [
        "print(f'''\n",
        "If I did this right, after saving to GitHub I'll see this file at http://github.com/{my_github}/{my_repository}/blob/main/week01/assignment1.ipynb\n",
        "''')"
      ],
      "metadata": {
        "colab": {
          "base_uri": "https://localhost:8080/"
        },
        "id": "sjDXGhlPus_k",
        "outputId": "4375e9cc-b4e2-4b2c-9f8a-dd65d4aca337"
      },
      "execution_count": 2,
      "outputs": [
        {
          "output_type": "stream",
          "name": "stdout",
          "text": [
            "\n",
            "If I did this right, after saving to GitHub I'll see this file at http://github.com/vsaathwika0904/hds5210-2023/blob/main/week01/assignment1.ipynb\n",
            "\n"
          ]
        }
      ]
    },
    {
      "cell_type": "code",
      "source": [],
      "metadata": {
        "id": "5EIjfSJxvCMz"
      },
      "execution_count": 2,
      "outputs": []
    }
  ]
}