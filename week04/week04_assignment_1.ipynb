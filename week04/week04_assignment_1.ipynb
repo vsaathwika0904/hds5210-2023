{
  "cells": [
    {
      "cell_type": "markdown",
      "metadata": {
        "id": "view-in-github",
        "colab_type": "text"
      },
      "source": [
        "<a href=\"https://colab.research.google.com/github/vsaathwika0904/hds5210-2023/blob/main/week04/week04_assignment_1.ipynb\" target=\"_parent\"><img src=\"https://colab.research.google.com/assets/colab-badge.svg\" alt=\"Open In Colab\"/></a>"
      ]
    },
    {
      "cell_type": "markdown",
      "metadata": {
        "nbgrader": {
          "grade": false,
          "grade_id": "intro",
          "locked": true,
          "schema_version": 1,
          "solution": false
        },
        "id": "CEm_0fWWP6qr"
      },
      "source": [
        "# Week 4 Exercises\n",
        "\n",
        "_modules 13-15_\n",
        "\n",
        "_See also [documentation on standard data types](https://docs.python.org/3/library/stdtypes.html)_\n",
        "\n",
        "Modules 13 through 15 have all been about different built-in data types that can be used to create larger and more complex data structures.  We learned about tuples, lists, dictionaries, and how to access and process that data in new ways.\n",
        "\n",
        "\n",
        "\n",
        "Do not change anything else or add any other code to this notebook. If you need to do scratch work to determine an answer, create a new notebook and do your work there.\n",
        "\n",
        "---\n",
        "---"
      ]
    },
    {
      "cell_type": "markdown",
      "metadata": {
        "id": "E9GecZxpP6qt"
      },
      "source": [
        "### 13.1 Which of the following statements are true?\n",
        "\n",
        "Placeholders for two answers are provided, but there may be more correction options.\n",
        "> A) The elements in both Tuples and Lists have a specific order\n",
        ">\n",
        "> B) Tuples and Lists can both be nested\n",
        ">\n",
        "> C) A Tuple can be concatenated to another Tuple using the `+` operator\n",
        ">\n",
        "> D) Tuples and Lists can both have items appended to their ends\n",
        "\n"
      ]
    },
    {
      "cell_type": "code",
      "execution_count": 1,
      "metadata": {
        "id": "twCWVCtZP6qt"
      },
      "outputs": [],
      "source": [
        "answers = {}\n",
        "answers[\"13.1\"] = [\"A\",\"B\",\"C\"]"
      ]
    },
    {
      "cell_type": "markdown",
      "metadata": {
        "id": "MI5a4TegP6qu"
      },
      "source": [
        "### 13.2 What does this code output?\n",
        "\n",
        "```python\n",
        "(a, b) = ('First', 'Second')\n",
        "(b, a) = (a, b)\n",
        "print(b)\n",
        "```\n",
        "\n",
        "> A) `First`\n",
        ">\n",
        "> B) `Second`\n",
        ">\n",
        "> C) `('First', 'Second')`\n",
        ">\n",
        "> D) _nothing_"
      ]
    },
    {
      "cell_type": "code",
      "execution_count": 2,
      "metadata": {
        "id": "XeQ6L1LWP6qu"
      },
      "outputs": [],
      "source": [
        "answers[\"13.2\"] = \"A\""
      ]
    },
    {
      "cell_type": "markdown",
      "metadata": {
        "id": "i8TerpAtP6qu"
      },
      "source": [
        "### 13.3 What is the output of the following code?\n",
        "\n",
        "```python\n",
        "(a, b) = (['Paul','Alex','Linda','Kathy','Amit','Samira'], [41, 38, 30, 43, 41, 40, 34, 52])\n",
        "len(b)\n",
        "```\n",
        "\n",
        "> A) _Error_\n",
        ">\n",
        "> B) `6`\n",
        ">\n",
        "> C) `8`\n",
        ">\n",
        "> D) _None_"
      ]
    },
    {
      "cell_type": "code",
      "execution_count": 3,
      "metadata": {
        "id": "WbZhtuZqP6qv"
      },
      "outputs": [],
      "source": [
        "answers[\"13.3\"] = \"C\""
      ]
    },
    {
      "cell_type": "markdown",
      "metadata": {
        "id": "MClckK3IP6qv"
      },
      "source": [
        "### 13.4 What is the output of the following code?\n",
        "\n",
        "```python\n",
        "(a, b) = (['Paul','Alex','Linda','Kathy','Amit','Samira'], [41, 38, 30, 43, 41, 40, 34, 52])\n",
        "len(a[5])\n",
        "```\n",
        "\n",
        "> A) `4`\n",
        ">\n",
        "> B) `5`\n",
        ">\n",
        "> C) `6`\n",
        ">\n",
        "> D) _None_"
      ]
    },
    {
      "cell_type": "code",
      "execution_count": 4,
      "metadata": {
        "id": "pUpE2O23P6qv"
      },
      "outputs": [],
      "source": [
        "answers[\"13.4\"] = \"C\""
      ]
    },
    {
      "cell_type": "markdown",
      "metadata": {
        "id": "ygtvlwA4P6qv"
      },
      "source": [
        "### 13.5 What is the output from the code below?\n",
        "\n",
        "```python\n",
        "dxs = [['COPD','CHF','MI'],['DVT','DBS'],['GI','CNC']]\n",
        "len(dxs[1])\n",
        "```\n",
        "\n",
        "> A) _Error_\n",
        ">\n",
        "> B) `3`\n",
        ">\n",
        "> C) `2`\n",
        ">\n",
        "> D) _None_"
      ]
    },
    {
      "cell_type": "code",
      "execution_count": 5,
      "metadata": {
        "id": "nBT1a0ORP6qv"
      },
      "outputs": [],
      "source": [
        "answers[\"13.5\"] = \"C\""
      ]
    },
    {
      "cell_type": "markdown",
      "metadata": {
        "id": "ENacnBESP6qv"
      },
      "source": [
        "### 13.6 What will the resulting value of `vals` be?\n",
        "\n",
        "```python\n",
        "vals = [3.14, 1.41]\n",
        "vals.append([2.72])\n",
        "vals = vals + ['i']\n",
        "```\n",
        "\n",
        "> A) `[3.14, 1.41, 2.72, ['i']]`\n",
        ">\n",
        "> B) `[3.14, 1.41, [2.72], 'i']`\n",
        ">\n",
        "> C) `[3.14, 1.41, [2.72], ['i']]`\n",
        ">\n",
        "> D) `[3.14, 1.41, [2.72, 'i']`"
      ]
    },
    {
      "cell_type": "code",
      "execution_count": 6,
      "metadata": {
        "id": "kEMGb5sTP6qv"
      },
      "outputs": [],
      "source": [
        "answers[\"13.6\"] = \"B\""
      ]
    },
    {
      "cell_type": "markdown",
      "metadata": {
        "id": "eRC_GUKhP6qw"
      },
      "source": [
        "### 13.7 Which of the following statements are correct?\n",
        "\n",
        "Placeholders for two options are provided, but there may be more correct answers.\n",
        "> A) Lists can have other lists inside them\n",
        ">\n",
        "> B) When you create a list, you must specify how big it will be\n",
        ">\n",
        "> C) The items in a list do not have a specific order\n",
        ">\n",
        "> D) list.sort() will sort the list in place without creating a copy"
      ]
    },
    {
      "cell_type": "code",
      "execution_count": 7,
      "metadata": {
        "id": "dPtoNzE4P6qw"
      },
      "outputs": [],
      "source": [
        "answers[\"13.7\"] = [\"A\",\"D\"]"
      ]
    },
    {
      "cell_type": "markdown",
      "metadata": {
        "id": "voauBbPMP6qw"
      },
      "source": [
        "### 14.1 When you retrieve items from a dictionary in a **for** loop, in what order are they processed?\n",
        "\n",
        "> A) An arbitary order that is the same each time as long as the dictionary doesn't change\n",
        ">\n",
        "> B) Always in ascending order\n",
        ">\n",
        "> C) Always in descending order\n",
        ">\n",
        "> D) A different order that is completely random each time"
      ]
    },
    {
      "cell_type": "code",
      "execution_count": 8,
      "metadata": {
        "id": "tbVe59EhP6qw"
      },
      "outputs": [],
      "source": [
        "answers[\"14.1\"] = \"A\""
      ]
    },
    {
      "cell_type": "markdown",
      "metadata": {
        "id": "6iXo0G0bP6qw"
      },
      "source": [
        "### 14.2 What data types can be used for dictionary *keys*?\n",
        "\n",
        "Two placeholders are provided, but more answers may be correct and should be included.\n",
        "> A) Strings\n",
        ">\n",
        "> B) Integers\n",
        ">\n",
        "> C) Floats\n",
        ">\n",
        "> D) Typles"
      ]
    },
    {
      "cell_type": "code",
      "execution_count": 9,
      "metadata": {
        "id": "VNMR8GEoP6qw"
      },
      "outputs": [],
      "source": [
        "answers[\"14.2\"] = [\"A\",\"B\",\"C\",\"D\"]"
      ]
    },
    {
      "cell_type": "markdown",
      "metadata": {
        "id": "nisTGi5OP6qw"
      },
      "source": [
        "### 14.3 Which of the following statements are correct?\n",
        "\n",
        "Two placeholders are provided, but more answers may be correct and should be included.\n",
        "> A) Dictionaries can contain lists\n",
        ">\n",
        "> B) Lists can contain dictionaries\n",
        ">\n",
        "> C) All dictionary keys must be strings\n",
        ">\n",
        "> D) Dictionaries can contain multiple entries for the same key"
      ]
    },
    {
      "cell_type": "code",
      "execution_count": 10,
      "metadata": {
        "id": "y5z83Y7YP6qw"
      },
      "outputs": [],
      "source": [
        "answers[\"14.3\"] = [\"A\",\"B\"]"
      ]
    },
    {
      "cell_type": "markdown",
      "metadata": {
        "id": "NGhd2dwXP6qx"
      },
      "source": [
        "### 14.4 When you enter your answers for this homework, what is the data type of the `answers` variable?\n",
        "\n",
        "> A) String\n",
        ">\n",
        "> B) Dictionary\n",
        ">\n",
        "> C) List\n",
        ">\n",
        "> D) Tuple\n"
      ]
    },
    {
      "cell_type": "code",
      "execution_count": 11,
      "metadata": {
        "id": "0JWpGxtTP6qx"
      },
      "outputs": [],
      "source": [
        "answers[\"14.4\"] = \"B\""
      ]
    },
    {
      "cell_type": "markdown",
      "metadata": {
        "id": "-kOx1EcEP6qx"
      },
      "source": [
        "---\n",
        "\n",
        "Checking Your Work\n",
        "---\n",
        "\n",
        "After completing your work above and running each cell, you can check your answers by running the code below.\n",
        "\n",
        "The easiest way to do this is to use the `Kernel` -> `Restart Kernel and Run All Cells` menu option. This option restarts Python and runs every cell from top to bottom until it encounters an exception of some kind.  It will stop after running the cell below and outputing a summary of how many answers you have correct or incorrect.\n"
      ]
    },
    {
      "cell_type": "code",
      "execution_count": 12,
      "metadata": {
        "id": "zB7ZDkUlP6qx",
        "outputId": "ae6aac5f-10e6-4d00-c702-234c4c4299ec",
        "colab": {
          "base_uri": "https://localhost:8080/"
        }
      },
      "outputs": [
        {
          "output_type": "stream",
          "name": "stdout",
          "text": [
            "Collecting boto3\n",
            "  Downloading boto3-1.28.53-py3-none-any.whl (135 kB)\n",
            "\u001b[2K     \u001b[90m━━━━━━━━━━━━━━━━━━━━━━━━━━━━━━━━━━━━━━━\u001b[0m \u001b[32m135.8/135.8 kB\u001b[0m \u001b[31m1.5 MB/s\u001b[0m eta \u001b[36m0:00:00\u001b[0m\n",
            "\u001b[?25hCollecting botocore<1.32.0,>=1.31.53 (from boto3)\n",
            "  Downloading botocore-1.31.53-py3-none-any.whl (11.2 MB)\n",
            "\u001b[2K     \u001b[90m━━━━━━━━━━━━━━━━━━━━━━━━━━━━━━━━━━━━━━━━\u001b[0m \u001b[32m11.2/11.2 MB\u001b[0m \u001b[31m26.0 MB/s\u001b[0m eta \u001b[36m0:00:00\u001b[0m\n",
            "\u001b[?25hCollecting jmespath<2.0.0,>=0.7.1 (from boto3)\n",
            "  Downloading jmespath-1.0.1-py3-none-any.whl (20 kB)\n",
            "Collecting s3transfer<0.7.0,>=0.6.0 (from boto3)\n",
            "  Downloading s3transfer-0.6.2-py3-none-any.whl (79 kB)\n",
            "\u001b[2K     \u001b[90m━━━━━━━━━━━━━━━━━━━━━━━━━━━━━━━━━━━━━━━━\u001b[0m \u001b[32m79.8/79.8 kB\u001b[0m \u001b[31m9.7 MB/s\u001b[0m eta \u001b[36m0:00:00\u001b[0m\n",
            "\u001b[?25hRequirement already satisfied: python-dateutil<3.0.0,>=2.1 in /usr/local/lib/python3.10/dist-packages (from botocore<1.32.0,>=1.31.53->boto3) (2.8.2)\n",
            "Collecting urllib3<1.27,>=1.25.4 (from botocore<1.32.0,>=1.31.53->boto3)\n",
            "  Downloading urllib3-1.26.16-py2.py3-none-any.whl (143 kB)\n",
            "\u001b[2K     \u001b[90m━━━━━━━━━━━━━━━━━━━━━━━━━━━━━━━━━━━━━━\u001b[0m \u001b[32m143.1/143.1 kB\u001b[0m \u001b[31m14.6 MB/s\u001b[0m eta \u001b[36m0:00:00\u001b[0m\n",
            "\u001b[?25hRequirement already satisfied: six>=1.5 in /usr/local/lib/python3.10/dist-packages (from python-dateutil<3.0.0,>=2.1->botocore<1.32.0,>=1.31.53->boto3) (1.16.0)\n",
            "Installing collected packages: urllib3, jmespath, botocore, s3transfer, boto3\n",
            "  Attempting uninstall: urllib3\n",
            "    Found existing installation: urllib3 2.0.4\n",
            "    Uninstalling urllib3-2.0.4:\n",
            "      Successfully uninstalled urllib3-2.0.4\n",
            "Successfully installed boto3-1.28.53 botocore-1.31.53 jmespath-1.0.1 s3transfer-0.6.2 urllib3-1.26.16\n",
            "=============================================\n",
            "== RESULTS for svamkeepuram@slu.edu\n",
            "=============================================\n",
            "   Q#               Yours  Correct?\n",
            " 13.1     ['A', 'B', 'C']        OK\n",
            " 13.2                   A        OK\n",
            " 13.3                   C        OK\n",
            " 13.4                   C        OK\n",
            " 13.5                   C        OK\n",
            " 13.6                   B        OK\n",
            " 13.7          ['A', 'D']        OK\n",
            " 14.1                   A        OK\n",
            " 14.2['A', 'B', 'C', 'D']        OK\n",
            " 14.3          ['A', 'B']        OK\n",
            " 14.4                   B        OK\n"
          ]
        }
      ],
      "source": [
        "!pip install boto3\n",
        "import httpimport\n",
        "with httpimport.remote_repo('https://gist.githubusercontent.com/paulboal/f14bead2d24fcb9499f4de4607908824/raw/4c3c0e75ea1510bb090bada047372954160e64d4'):\n",
        "    import checker\n",
        "\n",
        "checker.check_hds5210(answers, 'week04')"
      ]
    },
    {
      "cell_type": "markdown",
      "metadata": {
        "id": "6ZVNwksYP6qx"
      },
      "source": [
        "---\n",
        "\n",
        "## Check your work above\n",
        "\n",
        "If you didn't get them all correct, take a few minutes to think through those that aren't correct.\n",
        "\n",
        "\n",
        "## Submitting Your Work\n",
        "\n",
        "In order to submit your work, you'll need to save this notebook file back to GitHub.  To do that in Google Colab:\n",
        "1. File -> Save a Copy in GitHub\n",
        "2. Make sure your HDS5210 repository is selected\n",
        "3. Make sure the file name includes the week number like this: `week02/week02_assignment_1.ipynb`\n",
        "4. Add a commit message that means something\n",
        "\n",
        "**Be sure week names are lowercase and use a two digit week number!!**\n",
        "\n",
        "**Be sure you use the same file name provided by the instructor!!**\n",
        "\n"
      ]
    }
  ],
  "metadata": {
    "celltoolbar": "Create Assignment",
    "kernelspec": {
      "display_name": "Python 3",
      "language": "python",
      "name": "python3"
    },
    "language_info": {
      "codemirror_mode": {
        "name": "ipython",
        "version": 3
      },
      "file_extension": ".py",
      "mimetype": "text/x-python",
      "name": "python",
      "nbconvert_exporter": "python",
      "pygments_lexer": "ipython3",
      "version": "3.6.7"
    },
    "colab": {
      "provenance": [],
      "include_colab_link": true
    }
  },
  "nbformat": 4,
  "nbformat_minor": 0
}