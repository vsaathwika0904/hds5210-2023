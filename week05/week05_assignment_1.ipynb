{
  "cells": [
    {
      "cell_type": "markdown",
      "metadata": {
        "id": "view-in-github",
        "colab_type": "text"
      },
      "source": [
        "<a href=\"https://colab.research.google.com/github/vsaathwika0904/hds5210-2023/blob/main/week05/week05_assignment_1.ipynb\" target=\"_parent\"><img src=\"https://colab.research.google.com/assets/colab-badge.svg\" alt=\"Open In Colab\"/></a>"
      ]
    },
    {
      "cell_type": "markdown",
      "metadata": {
        "nbgrader": {
          "grade": false,
          "grade_id": "intro",
          "locked": true,
          "schema_version": 1,
          "solution": false
        },
        "id": "hpOkezZufGEx"
      },
      "source": [
        "# Week 5 Exercises\n",
        "\n",
        "_McKinney 3.2_\n",
        "\n",
        "These modules were all about the idea of creating your own functions from scratch.  In previous weeks, I've been providing that framework for you. If you're new to programming, that may not have entirely made sense.  With this week's lecture it should start to feel better.  Test your knowledge of the content from the lectures through the multiple choice questions below.\n",
        "\n",
        "---\n",
        "---"
      ]
    },
    {
      "cell_type": "markdown",
      "metadata": {
        "id": "gUSVMVyhfGEy"
      },
      "source": [
        "### 21.1 What does the keyword `def` mean before a function name?\n",
        "\n",
        "> A) _define_ - You are saying that this is the function definition\n",
        ">\n",
        "> B) _default_ - This is the default work the function should do\n",
        ">\n",
        "> C) _def_ - Doesn't stand for anything, it's just what you put there\n",
        ">\n",
        "> D) _defer_ - Meaning don't do anything right now"
      ]
    },
    {
      "cell_type": "code",
      "execution_count": 1,
      "metadata": {
        "id": "wH2iqhLpfGEy"
      },
      "outputs": [],
      "source": [
        "answers = {}\n",
        "answers[\"21.1\"] = \"A\""
      ]
    },
    {
      "cell_type": "markdown",
      "metadata": {
        "id": "k74z2lklfGEz"
      },
      "source": [
        "### 21.2 Which of the following are valid ways to call the function with the `def` below?\n",
        "\n",
        "```python\n",
        "def my_function (fname='John', lname='Doe', gender='M'):\n",
        "    ...\n",
        "```\n",
        "\n",
        "> A) `my_function()`\n",
        ">\n",
        "> B) `my_function(last_name='Boal')`\n",
        ">\n",
        "> C) `my_function(fname='Paul', lname='Boal')`\n",
        ">\n",
        "> D) `my_function(lname='Boal', fname='Paul', gender='M')`"
      ]
    },
    {
      "cell_type": "code",
      "execution_count": 2,
      "metadata": {
        "id": "IKFJSFdffGEz"
      },
      "outputs": [],
      "source": [
        "answers[\"21.2\"] = [\"A\",\"C\",\"D\"]"
      ]
    },
    {
      "cell_type": "markdown",
      "metadata": {
        "id": "UNBEMosEfGEz"
      },
      "source": [
        "### 21.3 Which of the following lines of code does not have any functions in it?\n",
        "\n",
        "\n",
        "> A) `pi * (radius ** 2)`\n",
        ">\n",
        "> B) `[ x for x in range(10) ]`\n",
        ">\n",
        "> C) `value = math.log(23,2)`\n",
        ">\n",
        "> D) `print('I am a good student')`"
      ]
    },
    {
      "cell_type": "code",
      "execution_count": 3,
      "metadata": {
        "id": "ysxH0JNEfGEz"
      },
      "outputs": [],
      "source": [
        "answers[\"21.3\"] = \"A\""
      ]
    },
    {
      "cell_type": "markdown",
      "metadata": {
        "id": "Ul-vyQdTfGEz"
      },
      "source": [
        "### 21.4 Which of the following is not a valid function definition line for function that calculates R0 (aka \"R naught\")\n",
        "\n",
        "> A) `def R0 (attack_rate, susceptible_population):`\n",
        ">\n",
        "> B) `def r-naught (attack_rate, susceptible_population):`\n",
        ">\n",
        "> C) `def r_naught (attack_rate, susceptible_population):`\n",
        ">\n",
        "> D) `def R0 (susceptible_population, attack_rate):`"
      ]
    },
    {
      "cell_type": "code",
      "execution_count": 4,
      "metadata": {
        "id": "Mz3TK6UYfGEz"
      },
      "outputs": [],
      "source": [
        "answers[\"21.4\"] = \"B\""
      ]
    },
    {
      "cell_type": "markdown",
      "metadata": {
        "id": "DULgpyXFfGE0"
      },
      "source": [
        "### 22.1 Which is true about docstrings?\n",
        "\n",
        "> A) They are stored in Python as just a long string inside the function definition.\n",
        ">\n",
        "> B) They can contain tests to help you demonstrate your code works correctly.\n",
        ">\n",
        "> C) They tell Python what to say when someone asks for `help()` on your function.\n",
        ">\n",
        "> D) All of these"
      ]
    },
    {
      "cell_type": "code",
      "execution_count": 5,
      "metadata": {
        "id": "0xijoGL2fGE0"
      },
      "outputs": [],
      "source": [
        "answers[\"22.1\"] = \"D\""
      ]
    },
    {
      "cell_type": "markdown",
      "metadata": {
        "id": "5QC7WtTjfGE0"
      },
      "source": [
        "### 22.2 True or False: From now on you should include docstrings in the _programming_ homework assignments?\n",
        "\n",
        "> A) True\n",
        ">\n",
        "> B) False"
      ]
    },
    {
      "cell_type": "code",
      "execution_count": 6,
      "metadata": {
        "id": "PYfDHWT6fGE0"
      },
      "outputs": [],
      "source": [
        "answers[\"22.2\"] = \"A\""
      ]
    },
    {
      "cell_type": "markdown",
      "metadata": {
        "id": "gTJAt72ZfGE0"
      },
      "source": [
        "### 23.1 Which of the following is most common way to encapsulate data processing rules in Python?\n",
        "\n",
        "> A) dict\n",
        ">\n",
        "> B) str\n",
        ">\n",
        "> C) function\n",
        ">\n",
        "> D) tuple\n",
        ">\n",
        "> E) int"
      ]
    },
    {
      "cell_type": "code",
      "execution_count": 7,
      "metadata": {
        "id": "onsjhN-kfGE0"
      },
      "outputs": [],
      "source": [
        "answers[\"23.1\"] = \"C\""
      ]
    },
    {
      "cell_type": "markdown",
      "metadata": {
        "id": "-kxMLFMofGE0"
      },
      "source": [
        "### 23.2 What does DRY stand for?\n",
        "\n",
        "\n",
        "> A) Do not repeat yourself\n",
        ">\n",
        "> B) Do not repeat yourself\n",
        ">\n",
        "> C) Do not repeat yourself\n",
        ">\n",
        "> D) All of the above"
      ]
    },
    {
      "cell_type": "code",
      "execution_count": 8,
      "metadata": {
        "id": "CsQ0NBrefGE0"
      },
      "outputs": [],
      "source": [
        "answers[\"23.2\"] = \"D\""
      ]
    },
    {
      "cell_type": "markdown",
      "metadata": {
        "id": "Ib9CV3xGfGE0"
      },
      "source": [
        "### 24.1 When Python tells you there's been an exception, what is the key word that we use in our Python code to indicate how Python should react to that exception?\n",
        "\n",
        "> A) Throw\n",
        ">\n",
        "> B) Raise\n",
        ">\n",
        "> C) Except\n",
        ">\n",
        "> D) Crash"
      ]
    },
    {
      "cell_type": "code",
      "execution_count": 9,
      "metadata": {
        "id": "9a8ewkEEfGE1"
      },
      "outputs": [],
      "source": [
        "answers[\"24.1\"] = \"C\""
      ]
    },
    {
      "cell_type": "markdown",
      "metadata": {
        "id": "0mm6AmSofGE1"
      },
      "source": [
        "### 24.2 When you, as the programmer, want to notify Python that an exception should be triggered, what is the key word we use for that?\n",
        "\n",
        "> A) Throw\n",
        ">\n",
        "> B) Raise\n",
        ">\n",
        "> C) Except\n",
        ">\n",
        "> D) Crash"
      ]
    },
    {
      "cell_type": "code",
      "execution_count": 10,
      "metadata": {
        "id": "z0KXCewwfGE1"
      },
      "outputs": [],
      "source": [
        "answers[\"24.2\"] = \"B\""
      ]
    },
    {
      "cell_type": "code",
      "execution_count": 10,
      "metadata": {
        "id": "QHHuU10gfGE1"
      },
      "outputs": [],
      "source": []
    },
    {
      "cell_type": "markdown",
      "metadata": {
        "id": "SOyVWazvfGE1"
      },
      "source": [
        "---\n",
        "\n",
        "Checking Your Work\n",
        "---\n",
        "\n",
        "After completing your work above and running each cell, you can check your answers by running the code below.\n",
        "\n",
        "The easiest way to do this is to use the `Kernel` -> `Restart Kernel and Run All Cells` menu option. This option restarts Python and runs every cell from top to bottom until it encounters an exception of some kind.  It will stop after running the cell below and outputing a summary of how many answers you have correct or incorrect.\n"
      ]
    },
    {
      "cell_type": "code",
      "execution_count": null,
      "metadata": {
        "id": "ZCT8DADvfGE1",
        "outputId": "725a201a-d4af-4303-e9eb-8594590dcb1d",
        "colab": {
          "base_uri": "https://localhost:8080/"
        }
      },
      "outputs": [
        {
          "output_type": "stream",
          "name": "stdout",
          "text": [
            "Collecting boto3\n",
            "  Downloading boto3-1.28.58-py3-none-any.whl (135 kB)\n",
            "\u001b[2K     \u001b[90m━━━━━━━━━━━━━━━━━━━━━━━━━━━━━━━━━━━━━━━\u001b[0m \u001b[32m135.8/135.8 kB\u001b[0m \u001b[31m3.0 MB/s\u001b[0m eta \u001b[36m0:00:00\u001b[0m\n",
            "\u001b[?25hCollecting botocore<1.32.0,>=1.31.58 (from boto3)\n",
            "  Downloading botocore-1.31.58-py3-none-any.whl (11.2 MB)\n",
            "\u001b[2K     \u001b[90m━━━━━━━━━━━━━━━━━━━━━━━━━━━━━━━━━━━━━━━━\u001b[0m \u001b[32m11.2/11.2 MB\u001b[0m \u001b[31m80.2 MB/s\u001b[0m eta \u001b[36m0:00:00\u001b[0m\n",
            "\u001b[?25hCollecting jmespath<2.0.0,>=0.7.1 (from boto3)\n",
            "  Downloading jmespath-1.0.1-py3-none-any.whl (20 kB)\n",
            "Collecting s3transfer<0.8.0,>=0.7.0 (from boto3)\n",
            "  Downloading s3transfer-0.7.0-py3-none-any.whl (79 kB)\n",
            "\u001b[2K     \u001b[90m━━━━━━━━━━━━━━━━━━━━━━━━━━━━━━━━━━━━━━━━\u001b[0m \u001b[32m79.8/79.8 kB\u001b[0m \u001b[31m10.0 MB/s\u001b[0m eta \u001b[36m0:00:00\u001b[0m\n",
            "\u001b[?25hRequirement already satisfied: python-dateutil<3.0.0,>=2.1 in /usr/local/lib/python3.10/dist-packages (from botocore<1.32.0,>=1.31.58->boto3) (2.8.2)\n",
            "Collecting urllib3<1.27,>=1.25.4 (from botocore<1.32.0,>=1.31.58->boto3)\n",
            "  Downloading urllib3-1.26.17-py2.py3-none-any.whl (143 kB)\n",
            "\u001b[2K     \u001b[90m━━━━━━━━━━━━━━━━━━━━━━━━━━━━━━━━━━━━━━\u001b[0m \u001b[32m143.4/143.4 kB\u001b[0m \u001b[31m17.3 MB/s\u001b[0m eta \u001b[36m0:00:00\u001b[0m\n",
            "\u001b[?25hRequirement already satisfied: six>=1.5 in /usr/local/lib/python3.10/dist-packages (from python-dateutil<3.0.0,>=2.1->botocore<1.32.0,>=1.31.58->boto3) (1.16.0)\n",
            "Installing collected packages: urllib3, jmespath, botocore, s3transfer, boto3\n",
            "  Attempting uninstall: urllib3\n",
            "    Found existing installation: urllib3 2.0.4\n",
            "    Uninstalling urllib3-2.0.4:\n",
            "      Successfully uninstalled urllib3-2.0.4\n",
            "Successfully installed boto3-1.28.58 botocore-1.31.58 jmespath-1.0.1 s3transfer-0.7.0 urllib3-1.26.17\n"
          ]
        }
      ],
      "source": [
        "!pip install boto3\n",
        "import httpimport\n",
        "with httpimport.remote_repo('https://gist.githubusercontent.com/paulboal/f14bead2d24fcb9499f4de4607908824/raw/4c3c0e75ea1510bb090bada047372954160e64d4'):\n",
        "    import checker\n",
        "\n",
        "checker.check_hds5210(answers, 'week05')"
      ]
    },
    {
      "cell_type": "markdown",
      "metadata": {
        "id": "x6azJzX0fGE1"
      },
      "source": [
        "---\n",
        "\n",
        "## Check your work above\n",
        "\n",
        "If you didn't get them all correct, take a few minutes to think through those that aren't correct.\n",
        "\n",
        "\n",
        "## Submitting Your Work\n",
        "\n",
        "In order to submit your work, you'll need to save this notebook file back to GitHub.  To do that in Google Colab:\n",
        "1. File -> Save a Copy in GitHub\n",
        "2. Make sure your HDS5210 repository is selected\n",
        "3. Make sure the file name includes the week number like this: `week02/week02_assignment_1.ipynb`\n",
        "4. Add a commit message that means something\n",
        "\n",
        "**Be sure week names are lowercase and use a two digit week number!!**\n",
        "\n",
        "**Be sure you use the same file name provided by the instructor!!**\n",
        "\n"
      ]
    }
  ],
  "metadata": {
    "celltoolbar": "Create Assignment",
    "kernelspec": {
      "display_name": "Python 3",
      "language": "python",
      "name": "python3"
    },
    "language_info": {
      "codemirror_mode": {
        "name": "ipython",
        "version": 3
      },
      "file_extension": ".py",
      "mimetype": "text/x-python",
      "name": "python",
      "nbconvert_exporter": "python",
      "pygments_lexer": "ipython3",
      "version": "3.6.7"
    },
    "colab": {
      "provenance": [],
      "include_colab_link": true
    }
  },
  "nbformat": 4,
  "nbformat_minor": 0
}